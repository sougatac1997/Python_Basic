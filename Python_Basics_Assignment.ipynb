{
  "nbformat": 4,
  "nbformat_minor": 5,
  "metadata": {
    "colab": {
      "provenance": []
    },
    "language_info": {
      "name": "python"
    },
    "kernelspec": {
      "name": "python3",
      "display_name": "Python 3"
    }
  },
  "cells": [
    {
      "id": "da1eeb21",
      "cell_type": "markdown",
      "source": [
        "### 1. What is Python, and why is it popular?"
      ],
      "metadata": {
        "id": "da1eeb21"
      }
    },
    {
      "id": "88baceba",
      "cell_type": "code",
      "metadata": {
        "colab": {
          "base_uri": "https://localhost:8080/",
          "height": 53
        },
        "id": "88baceba",
        "outputId": "c8631228-5406-423f-cc92-5fa696b130a5"
      },
      "execution_count": 1,
      "source": [
        "\"\"\"\n",
        "Python is a high-level, interpreted programming language known for its simplicity and readability. It is popular due to its vast libraries, ease of learning, and versatility in various domains like web development, data science, AI, and automation.\n",
        "\"\"\""
      ],
      "outputs": [
        {
          "output_type": "execute_result",
          "data": {
            "text/plain": [
              "'\\nPython is a high-level, interpreted programming language known for its simplicity and readability. It is popular due to its vast libraries, ease of learning, and versatility in various domains like web development, data science, AI, and automation.\\n'"
            ],
            "application/vnd.google.colaboratory.intrinsic+json": {
              "type": "string"
            }
          },
          "metadata": {},
          "execution_count": 1
        }
      ]
    },
    {
      "id": "61b498fc",
      "cell_type": "markdown",
      "source": [
        "### 2. What is an interpreter in Python?"
      ],
      "metadata": {
        "id": "61b498fc"
      }
    },
    {
      "id": "83f492d0",
      "cell_type": "code",
      "metadata": {
        "id": "83f492d0"
      },
      "execution_count": null,
      "source": [
        "\"\"\"\n",
        "An interpreter in Python is a program that executes Python code line by line, converting it into machine code at runtime.\n",
        "\"\"\""
      ],
      "outputs": []
    },
    {
      "id": "0848ee24",
      "cell_type": "markdown",
      "source": [
        "### 3. What are pre-defined keywords in Python?"
      ],
      "metadata": {
        "id": "0848ee24"
      }
    },
    {
      "id": "35596c31",
      "cell_type": "code",
      "metadata": {
        "id": "35596c31"
      },
      "execution_count": null,
      "source": [
        "\"\"\"\n",
        "Pre-defined keywords in Python are reserved words that have a special meaning, such as `if`, `else`, `while`, `for`, `def`, and `class`.\n",
        "\"\"\""
      ],
      "outputs": []
    },
    {
      "id": "21a27bf6",
      "cell_type": "markdown",
      "source": [
        "### 4. Can keywords be used as variable names?"
      ],
      "metadata": {
        "id": "21a27bf6"
      }
    },
    {
      "id": "79b556bf",
      "cell_type": "code",
      "metadata": {
        "id": "79b556bf"
      },
      "execution_count": null,
      "source": [
        "\"\"\"\n",
        "No, keywords cannot be used as variable names as they have predefined meanings in the language.\n",
        "\"\"\""
      ],
      "outputs": []
    },
    {
      "id": "8f4adffe",
      "cell_type": "markdown",
      "source": [
        "### 5. What is mutability in Python?"
      ],
      "metadata": {
        "id": "8f4adffe"
      }
    },
    {
      "id": "48e9e98c",
      "cell_type": "code",
      "metadata": {
        "id": "48e9e98c"
      },
      "execution_count": null,
      "source": [
        "\"\"\"\n",
        "Mutability refers to whether an object's state can be changed after it is created. Mutable objects can be modified, while immutable objects cannot.\n",
        "\"\"\""
      ],
      "outputs": []
    },
    {
      "id": "bbbc7d04",
      "cell_type": "markdown",
      "source": [
        "### 6. Why are lists mutable, but tuples are immutable?"
      ],
      "metadata": {
        "id": "bbbc7d04"
      }
    },
    {
      "id": "4d7bfc6a",
      "cell_type": "code",
      "metadata": {
        "id": "4d7bfc6a"
      },
      "execution_count": null,
      "source": [
        "\"\"\"\n",
        "Lists are mutable because they allow modification of their elements after creation, whereas tuples are immutable to ensure data integrity and performance optimization.\n",
        "\"\"\""
      ],
      "outputs": []
    },
    {
      "id": "c3db7bec",
      "cell_type": "markdown",
      "source": [
        "### 7. What is the difference between `==` and `is` operators in Python?"
      ],
      "metadata": {
        "id": "c3db7bec"
      }
    },
    {
      "id": "a39c8d96",
      "cell_type": "code",
      "metadata": {
        "id": "a39c8d96"
      },
      "execution_count": null,
      "source": [
        "\"\"\"\n",
        "`==` checks if two values are equal, whereas `is` checks if two variables refer to the same memory location.\n",
        "\"\"\""
      ],
      "outputs": []
    },
    {
      "id": "afdc52d8",
      "cell_type": "markdown",
      "source": [
        "### 8. What are logical operators in Python?"
      ],
      "metadata": {
        "id": "afdc52d8"
      }
    },
    {
      "id": "d6013064",
      "cell_type": "code",
      "metadata": {
        "id": "d6013064"
      },
      "execution_count": null,
      "source": [
        "\"\"\"\n",
        "Logical operators in Python are `and`, `or`, and `not`, which are used for combining boolean expressions.\n",
        "\"\"\""
      ],
      "outputs": []
    },
    {
      "id": "b1959206",
      "cell_type": "markdown",
      "source": [
        "### 9. What is type casting in Python?"
      ],
      "metadata": {
        "id": "b1959206"
      }
    },
    {
      "id": "f4684f12",
      "cell_type": "code",
      "metadata": {
        "id": "f4684f12"
      },
      "execution_count": null,
      "source": [
        "\"\"\"\n",
        "Type casting in Python refers to converting one data type into another, such as converting a string to an integer.\n",
        "\"\"\""
      ],
      "outputs": []
    },
    {
      "id": "a1d68d47",
      "cell_type": "markdown",
      "source": [
        "### 10. What is the difference between implicit and explicit type casting?"
      ],
      "metadata": {
        "id": "a1d68d47"
      }
    },
    {
      "id": "023610ed",
      "cell_type": "code",
      "metadata": {
        "id": "023610ed"
      },
      "execution_count": null,
      "source": [
        "\"\"\"\n",
        "Implicit type casting is performed automatically by Python, whereas explicit type casting requires manual conversion using functions like `int()`, `float()`, etc.\n",
        "\"\"\""
      ],
      "outputs": []
    },
    {
      "id": "a0c9b26d",
      "cell_type": "markdown",
      "source": [
        "### 11. What is the purpose of conditional statements in Python?"
      ],
      "metadata": {
        "id": "a0c9b26d"
      }
    },
    {
      "id": "f8eab4a3",
      "cell_type": "code",
      "metadata": {
        "id": "f8eab4a3"
      },
      "execution_count": null,
      "source": [
        "\"\"\"\n",
        "Conditional statements control the flow of execution by executing different code blocks based on conditions.\n",
        "\"\"\""
      ],
      "outputs": []
    },
    {
      "id": "3438a738",
      "cell_type": "markdown",
      "source": [
        "### 12. How does the `elif` statement work?"
      ],
      "metadata": {
        "id": "3438a738"
      }
    },
    {
      "id": "bfa6b81b",
      "cell_type": "code",
      "metadata": {
        "id": "bfa6b81b"
      },
      "execution_count": null,
      "source": [
        "\"\"\"\n",
        "The `elif` statement checks multiple conditions sequentially, executing the block of the first condition that evaluates to True.\n",
        "\"\"\""
      ],
      "outputs": []
    },
    {
      "id": "9a9f4d1a",
      "cell_type": "markdown",
      "source": [
        "### 13. What is the difference between `for` and `while` loops?"
      ],
      "metadata": {
        "id": "9a9f4d1a"
      }
    },
    {
      "id": "1b4aa463",
      "cell_type": "code",
      "metadata": {
        "id": "1b4aa463"
      },
      "execution_count": null,
      "source": [
        "\"\"\"\n",
        "`for` loops iterate over a sequence, whereas `while` loops execute as long as a condition is true.\n",
        "\"\"\""
      ],
      "outputs": []
    },
    {
      "id": "7e329c01",
      "cell_type": "markdown",
      "source": [
        "### 14. Describe a scenario where a while loop is more suitable than a for loop."
      ],
      "metadata": {
        "id": "7e329c01"
      }
    },
    {
      "id": "7d197905",
      "cell_type": "code",
      "metadata": {
        "id": "7d197905"
      },
      "execution_count": null,
      "source": [
        "\"\"\"\n",
        "A `while` loop is more suitable when the number of iterations is unknown, such as reading user input until a valid response is provided.\n",
        "\"\"\""
      ],
      "outputs": []
    },
    {
      "id": "340cb5b3",
      "cell_type": "markdown",
      "source": [
        "## Practical Questions"
      ],
      "metadata": {
        "id": "340cb5b3"
      }
    },
    {
      "id": "b6813887",
      "cell_type": "markdown",
      "source": [
        "### Practical 1: Write a Python program to print 'Hello, World!'"
      ],
      "metadata": {
        "id": "b6813887"
      }
    },
    {
      "id": "d39cf870",
      "cell_type": "code",
      "metadata": {
        "id": "d39cf870"
      },
      "execution_count": null,
      "source": [
        "print('Hello, World!')"
      ],
      "outputs": []
    },
    {
      "id": "3c05e436",
      "cell_type": "markdown",
      "source": [
        "### Practical 2: Write a Python program that displays your name and age"
      ],
      "metadata": {
        "id": "3c05e436"
      }
    },
    {
      "id": "8257d106",
      "cell_type": "code",
      "metadata": {
        "id": "8257d106"
      },
      "execution_count": null,
      "source": [
        "name = 'John Doe'\n",
        "age = 25\n",
        "print(f'My name is {name} and I am {age} years old.')"
      ],
      "outputs": []
    },
    {
      "id": "21e90cd8",
      "cell_type": "markdown",
      "source": [
        "### Practical 3: Write code to print all the pre-defined keywords in Python using the keyword library"
      ],
      "metadata": {
        "id": "21e90cd8"
      }
    },
    {
      "id": "d1b93d60",
      "cell_type": "code",
      "metadata": {
        "id": "d1b93d60"
      },
      "execution_count": null,
      "source": [
        "import keyword\n",
        "print(keyword.kwlist)"
      ],
      "outputs": []
    },
    {
      "id": "73699223",
      "cell_type": "markdown",
      "source": [
        "### Practical 4: Write a program that checks if a given word is a Python keyword."
      ],
      "metadata": {
        "id": "73699223"
      }
    },
    {
      "id": "a3495bc8",
      "cell_type": "code",
      "metadata": {
        "id": "a3495bc8"
      },
      "execution_count": null,
      "source": [
        "import keyword\n",
        "word = input('Enter a word: ')\n",
        "print(f'Is {word} a keyword? {keyword.iskeyword(word)}')"
      ],
      "outputs": []
    },
    {
      "id": "120e5ae4",
      "cell_type": "markdown",
      "source": [
        "### Practical 5: Write a function to demonstrate the behavior of mutable and immutable arguments."
      ],
      "metadata": {
        "id": "120e5ae4"
      }
    },
    {
      "id": "0e9aac8e",
      "cell_type": "code",
      "metadata": {
        "id": "0e9aac8e"
      },
      "execution_count": null,
      "source": [
        "def modify_values(a, b):\n",
        "    a += 10  # Immutable (int)\n",
        "    b.append(4)  # Mutable (list)\n",
        "    return a, b\n",
        "\n",
        "num = 5\n",
        "lst = [1, 2, 3]\n",
        "print(modify_values(num, lst))"
      ],
      "outputs": []
    },
    {
      "id": "8d218b85",
      "cell_type": "markdown",
      "source": [
        "### Practical 6: Write a program that performs basic arithmetic operations on two user-input numbers."
      ],
      "metadata": {
        "id": "8d218b85"
      }
    },
    {
      "id": "10ac85c2",
      "cell_type": "code",
      "metadata": {
        "id": "10ac85c2"
      },
      "execution_count": null,
      "source": [
        "a = int(input('Enter first number: '))\n",
        "b = int(input('Enter second number: '))\n",
        "print(f'Sum: {a + b}, Difference: {a - b}, Product: {a * b}, Quotient: {a / b}')"
      ],
      "outputs": []
    },
    {
      "id": "f8e7a709",
      "cell_type": "markdown",
      "source": [
        "### Practical 7: Write a program to demonstrate the use of logical operators."
      ],
      "metadata": {
        "id": "f8e7a709"
      }
    },
    {
      "id": "77bb5ca4",
      "cell_type": "code",
      "metadata": {
        "id": "77bb5ca4"
      },
      "execution_count": null,
      "source": [
        "a = True\n",
        "b = False\n",
        "print(a and b, a or b, not a)"
      ],
      "outputs": []
    },
    {
      "id": "09ec0c09",
      "cell_type": "markdown",
      "source": [
        "### Practical 8: Create a list and tuple in Python, and demonstrate how attempting to change an element works differently for each."
      ],
      "metadata": {
        "id": "09ec0c09"
      }
    },
    {
      "id": "bf2d90e5",
      "cell_type": "code",
      "metadata": {
        "id": "bf2d90e5"
      },
      "execution_count": null,
      "source": [
        "my_list = [1, 2, 3]\n",
        "my_tuple = (1, 2, 3)\n",
        "my_list[0] = 10  # Works\n",
        "my_tuple[0] = 10  # Error (Immutable)"
      ],
      "outputs": []
    },
    {
      "id": "980ae339",
      "cell_type": "markdown",
      "source": [
        "### Practical 9: Write a Python program to convert user input from string to integer, float, and boolean types."
      ],
      "metadata": {
        "id": "980ae339"
      }
    },
    {
      "id": "745bef35",
      "cell_type": "code",
      "metadata": {
        "id": "745bef35"
      },
      "execution_count": null,
      "source": [
        "inp = input('Enter a value: ')\n",
        "print(int(inp), float(inp), bool(inp))"
      ],
      "outputs": []
    },
    {
      "id": "c108a4e2",
      "cell_type": "markdown",
      "source": [
        "### Practical 10: Write code to demonstrate type casting with list elements."
      ],
      "metadata": {
        "id": "c108a4e2"
      }
    },
    {
      "id": "e5613b71",
      "cell_type": "code",
      "metadata": {
        "id": "e5613b71"
      },
      "execution_count": null,
      "source": [
        "lst = ['1', '2', '3']\n",
        "int_lst = list(map(int, lst))\n",
        "print(int_lst)"
      ],
      "outputs": []
    },
    {
      "id": "7d641cd8",
      "cell_type": "markdown",
      "source": [
        "### Practical 11: Write a program that checks if a number is positive, negative, or zero."
      ],
      "metadata": {
        "id": "7d641cd8"
      }
    },
    {
      "id": "e1590a7f",
      "cell_type": "code",
      "metadata": {
        "id": "e1590a7f"
      },
      "execution_count": null,
      "source": [
        "num = int(input('Enter a number: '))\n",
        "if num > 0:\n",
        "    print('Positive')\n",
        "elif num < 0:\n",
        "    print('Negative')\n",
        "else:\n",
        "    print('Zero')"
      ],
      "outputs": []
    },
    {
      "id": "5539e8cd",
      "cell_type": "markdown",
      "source": [
        "### Practical 12: Write a for loop to print numbers from 1 to 10."
      ],
      "metadata": {
        "id": "5539e8cd"
      }
    },
    {
      "id": "e8aaeaad",
      "cell_type": "code",
      "metadata": {
        "id": "e8aaeaad"
      },
      "execution_count": null,
      "source": [
        "for i in range(1, 11):\n",
        "    print(i)"
      ],
      "outputs": []
    },
    {
      "id": "d0e277a3",
      "cell_type": "markdown",
      "source": [
        "### Practical 13: Write a Python program to find the sum of all even numbers between 1 and 50."
      ],
      "metadata": {
        "id": "d0e277a3"
      }
    },
    {
      "id": "f3a6477a",
      "cell_type": "code",
      "metadata": {
        "id": "f3a6477a"
      },
      "execution_count": null,
      "source": [
        "print(sum(i for i in range(1, 51) if i % 2 == 0))"
      ],
      "outputs": []
    },
    {
      "id": "a9686e48",
      "cell_type": "markdown",
      "source": [
        "### Practical 14: Write a program to reverse a string using a while loop."
      ],
      "metadata": {
        "id": "a9686e48"
      }
    },
    {
      "id": "7a7c3549",
      "cell_type": "code",
      "metadata": {
        "id": "7a7c3549"
      },
      "execution_count": null,
      "source": [
        "s = input('Enter a string: ')\n",
        "rev = ''\n",
        "i = len(s) - 1\n",
        "while i >= 0:\n",
        "    rev += s[i]\n",
        "    i -= 1\n",
        "print(rev)"
      ],
      "outputs": []
    },
    {
      "id": "ff07ffb5",
      "cell_type": "markdown",
      "source": [
        "### Practical 15: Write a Python program to calculate the factorial of a number provided by the user using a while loop."
      ],
      "metadata": {
        "id": "ff07ffb5"
      }
    },
    {
      "id": "d2395dd1",
      "cell_type": "code",
      "metadata": {
        "id": "d2395dd1"
      },
      "execution_count": null,
      "source": [
        "num = int(input('Enter a number: '))\n",
        "fact = 1\n",
        "while num > 1:\n",
        "    fact *= num\n",
        "    num -= 1\n",
        "print(f'Factorial: {fact}')"
      ],
      "outputs": []
    }
  ]
}